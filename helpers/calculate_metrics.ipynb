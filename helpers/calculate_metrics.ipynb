{
 "cells": [
  {
   "cell_type": "code",
   "execution_count": 15,
   "metadata": {},
   "outputs": [],
   "source": [
    "import os\n",
    "import pandas as pd\n",
    "from rouge import Rouge\n",
    "import nltk\n",
    "import random\n",
    "import matplotlib.pyplot as plt\n",
    "%matplotlib inline"
   ]
  },
  {
   "cell_type": "code",
   "execution_count": 2,
   "metadata": {},
   "outputs": [],
   "source": [
    "data = pd.read_csv(\"C:\\\\Users\\\\leshanbog\\\\Documents\\\\GitHub\\\\lasertagger\\\\model\\\\ria_test_pred.tsv\", sep='\\t', names=['text', 'pred', 'true'])\n",
    "data = data.dropna()"
   ]
  },
  {
   "cell_type": "code",
   "execution_count": 3,
   "metadata": {},
   "outputs": [
    {
     "data": {
      "text/plain": [
       "(4101, 3)"
      ]
     },
     "execution_count": 3,
     "metadata": {},
     "output_type": "execute_result"
    }
   ],
   "source": [
    "data.shape"
   ]
  },
  {
   "cell_type": "code",
   "execution_count": 4,
   "metadata": {},
   "outputs": [
    {
     "data": {
      "text/html": [
       "<div>\n",
       "<style scoped>\n",
       "    .dataframe tbody tr th:only-of-type {\n",
       "        vertical-align: middle;\n",
       "    }\n",
       "\n",
       "    .dataframe tbody tr th {\n",
       "        vertical-align: top;\n",
       "    }\n",
       "\n",
       "    .dataframe thead th {\n",
       "        text-align: right;\n",
       "    }\n",
       "</style>\n",
       "<table border=\"1\" class=\"dataframe\">\n",
       "  <thead>\n",
       "    <tr style=\"text-align: right;\">\n",
       "      <th></th>\n",
       "      <th>text</th>\n",
       "      <th>pred</th>\n",
       "      <th>true</th>\n",
       "    </tr>\n",
       "  </thead>\n",
       "  <tbody>\n",
       "    <tr>\n",
       "      <th>0</th>\n",
       "      <td>москв ##а , 25 апр - ри ##а новости . полны ##...</td>\n",
       "      <td>полны ##и состав жюри кан ##нского фестиваля о...</td>\n",
       "      <td>модельер ##а жан - поля гот ##ье позвал ##и в ...</td>\n",
       "    </tr>\n",
       "    <tr>\n",
       "      <th>1</th>\n",
       "      <td>18 апреля в волог ##де стартовал двухмесяч ##н...</td>\n",
       "      <td>в волог ##де стартовал двухмесяч ##ник по благ...</td>\n",
       "      <td>работники вологод ##ского кремля очист ##или м...</td>\n",
       "    </tr>\n",
       "    <tr>\n",
       "      <th>2</th>\n",
       "      <td>каб ##ул , 21 апр - ри ##а новости , анд ##реи...</td>\n",
       "      <td>круп ##не ##иши ##и афган ##ски ##и банк ka ##...</td>\n",
       "      <td>часть активов рух ##нувшего ka ##bul bank буде...</td>\n",
       "    </tr>\n",
       "    <tr>\n",
       "      <th>3</th>\n",
       "      <td>москв ##а , 31 ав ##г - ри ##а новости . возмо...</td>\n",
       "      <td>возможность сыграть повлияла на решение к ##еж...</td>\n",
       "      <td>форвард к ##еж ##ман перешел в ф ##к бат ##э и...</td>\n",
       "    </tr>\n",
       "    <tr>\n",
       "      <th>4</th>\n",
       "      <td>москв ##а , 24 ноября - ри ##а новости . совет...</td>\n",
       "      <td>сов ##фе ##д одобрил закон о передаче имущества</td>\n",
       "      <td>сов ##фе ##д одобрил нашумев ##ши ##и закон о ...</td>\n",
       "    </tr>\n",
       "  </tbody>\n",
       "</table>\n",
       "</div>"
      ],
      "text/plain": [
       "                                                text  \\\n",
       "0  москв ##а , 25 апр - ри ##а новости . полны ##...   \n",
       "1  18 апреля в волог ##де стартовал двухмесяч ##н...   \n",
       "2  каб ##ул , 21 апр - ри ##а новости , анд ##реи...   \n",
       "3  москв ##а , 31 ав ##г - ри ##а новости . возмо...   \n",
       "4  москв ##а , 24 ноября - ри ##а новости . совет...   \n",
       "\n",
       "                                                pred  \\\n",
       "0  полны ##и состав жюри кан ##нского фестиваля о...   \n",
       "1  в волог ##де стартовал двухмесяч ##ник по благ...   \n",
       "2  круп ##не ##иши ##и афган ##ски ##и банк ka ##...   \n",
       "3  возможность сыграть повлияла на решение к ##еж...   \n",
       "4    сов ##фе ##д одобрил закон о передаче имущества   \n",
       "\n",
       "                                                true  \n",
       "0  модельер ##а жан - поля гот ##ье позвал ##и в ...  \n",
       "1  работники вологод ##ского кремля очист ##или м...  \n",
       "2  часть активов рух ##нувшего ka ##bul bank буде...  \n",
       "3  форвард к ##еж ##ман перешел в ф ##к бат ##э и...  \n",
       "4  сов ##фе ##д одобрил нашумев ##ши ##и закон о ...  "
      ]
     },
     "execution_count": 4,
     "metadata": {},
     "output_type": "execute_result"
    }
   ],
   "source": [
    "data.head()"
   ]
  },
  {
   "cell_type": "code",
   "execution_count": 5,
   "metadata": {},
   "outputs": [],
   "source": [
    "refs = list(data['true'])\n",
    "hyps = list(data['pred'])"
   ]
  },
  {
   "cell_type": "code",
   "execution_count": 6,
   "metadata": {},
   "outputs": [],
   "source": [
    "def calc_legacy_rouge(refs, hyps, directory=\"eval\"):\n",
    "    from pyrouge import Rouge155\n",
    "    r = Rouge155()\n",
    "    system_dir = os.path.join(directory, 'hyp')\n",
    "    model_dir = os.path.join(directory, 'ref')\n",
    "    if not os.path.isdir(system_dir):\n",
    "        os.makedirs(system_dir)\n",
    "    if not os.path.isdir(model_dir):\n",
    "        os.makedirs(model_dir)\n",
    "    r.system_dir = system_dir\n",
    "    r.model_dir = model_dir\n",
    "    r.system_filename_pattern = '(\\d+)_decoded.txt'\n",
    "    r.model_filename_pattern = '#ID#_reference.txt'\n",
    "    for i, (ref, hyp) in enumerate(zip(refs, hyps)):\n",
    "        hyp_file_path = os.path.join(r.system_dir, \"%06d_decoded.txt\" % i)\n",
    "        with open(hyp_file_path, \"w\") as w:\n",
    "            hyp_sentences = hyp.split(\" s_s \")\n",
    "            w.write(\"\\n\".join(hyp_sentences))\n",
    "        ref_file_path = os.path.join(r.model_dir, \"%06d_reference.txt\" % i)\n",
    "        with open(ref_file_path, \"w\") as w:\n",
    "            ref_sentences = ref.split(\" s_s \")\n",
    "            w.write(\"\\n\".join(ref_sentences))\n",
    "    output = r.convert_and_evaluate()\n",
    "    result = r.output_to_dict(output)\n",
    "    log_str = \"\"\n",
    "    for x in [\"1\",\"2\",\"l\"]:\n",
    "        log_str += \"\\nROUGE-%s:\\n\" % x\n",
    "        for y in [\"f_score\", \"recall\", \"precision\"]:\n",
    "            key = \"rouge_%s_%s\" % (x,y)\n",
    "            key_cb = key + \"_cb\"\n",
    "            key_ce = key + \"_ce\"\n",
    "            val = result[key]\n",
    "            val_cb = result[key_cb]\n",
    "            val_ce = result[key_ce]\n",
    "            log_str += \"%s: %.4f with confidence interval (%.4f, %.4f)\\n\" % (key, val, val_cb, val_ce)\n",
    "    return log_str\n",
    "\n",
    "\n",
    "def calc_metrics(refs, hyps):\n",
    "    print(\"Count:\", len(hyps))\n",
    "    print(\"Ref:\", refs[-2])\n",
    "    print(\"Hyp:\", hyps[-2])\n",
    "\n",
    "    from nltk.translate.bleu_score import corpus_bleu\n",
    "    print(\"BLEU: \", corpus_bleu([[r] if r is not list else r for r in refs], hyps))\n",
    "    rouge = Rouge()\n",
    "    scores = rouge.get_scores(hyps, refs, avg=True)\n",
    "    print(\"ROUGE: \", scores)"
   ]
  },
  {
   "cell_type": "code",
   "execution_count": 7,
   "metadata": {},
   "outputs": [
    {
     "name": "stdout",
     "output_type": "stream",
     "text": [
      "Count: 4101\n",
      "Ref: якут ##ия и тур ##ция готовы развивать сотрудничество\n",
      "Hyp: якут ##ия и тур ##ция договорились активизировать сотрудничество\n",
      "BLEU:  0.5494807540345582\n",
      "ROUGE:  {'rouge-1': {'f': 0.4650869262093979, 'p': 0.49596495861522455, 'r': 0.45144142430156126}, 'rouge-2': {'f': 0.31660838857106344, 'p': 0.3393940729259551, 'r': 0.30743130255474055}, 'rouge-l': {'f': 0.4246788167667025, 'p': 0.46645691754274143, 'r': 0.4237033569378699}}\n"
     ]
    }
   ],
   "source": [
    "calc_metrics(refs, hyps)"
   ]
  },
  {
   "cell_type": "code",
   "execution_count": 8,
   "metadata": {},
   "outputs": [],
   "source": [
    "n = random.randint(0, len(refs) - 1)"
   ]
  },
  {
   "cell_type": "code",
   "execution_count": 9,
   "metadata": {},
   "outputs": [
    {
     "data": {
      "text/plain": [
       "'москва , 2 окт - риа новости . россиянка анастасия павлюченкова переиграла чешку барбору заглавову - стрыкову в первом круге теннисного турнира в пекине , призовои фонд которого составляет 4 , 5 миллиона долларов . встреча , состоявшаяся в воскресенье , завершилась со счетом 7 : 5 , 6 : 4'"
      ]
     },
     "execution_count": 9,
     "metadata": {},
     "output_type": "execute_result"
    }
   ],
   "source": [
    "data['text'][n].replace(' ##', '')"
   ]
  },
  {
   "cell_type": "code",
   "execution_count": 10,
   "metadata": {},
   "outputs": [
    {
     "data": {
      "text/plain": [
       "'павлюченкова вышла в первом круге теннисного турнира в пекине'"
      ]
     },
     "execution_count": 10,
     "metadata": {},
     "output_type": "execute_result"
    }
   ],
   "source": [
    "data['pred'][n].replace(' ##', '')"
   ]
  },
  {
   "cell_type": "code",
   "execution_count": 11,
   "metadata": {},
   "outputs": [
    {
     "data": {
      "text/plain": [
       "'павлюченкова пробилась во второи круг теннисного турнира в пекине'"
      ]
     },
     "execution_count": 11,
     "metadata": {},
     "output_type": "execute_result"
    }
   ],
   "source": [
    "data['true'][n].replace(' ##', '')"
   ]
  },
  {
   "cell_type": "code",
   "execution_count": 12,
   "metadata": {},
   "outputs": [],
   "source": [
    "from_first_sentence_tokens_percert = []\n",
    "\n",
    "for i in range(len(data['text'])):\n",
    "    sent_tokens = data['text'].iloc[i].split()\n",
    "    try:\n",
    "        header_end_pos = sent_tokens.index('.')\n",
    "    except:\n",
    "        continue\n",
    "        \n",
    "    try:\n",
    "        first_sent = sent_tokens[header_end_pos + 1 : header_end_pos + sent_tokens[header_end_pos + 1:].index('.')]\n",
    "    except:\n",
    "        first_sent = sent_tokens[header_end_pos + 1 : -1]\n",
    "\n",
    "    pred_tokens = data['pred'].iloc[i].split()\n",
    "    token_from_first_sent_cnt = 0\n",
    "    for el in pred_tokens:\n",
    "        if el in first_sent:\n",
    "            token_from_first_sent_cnt += 1\n",
    "    \n",
    "    from_first_sentence_tokens_percert.append(token_from_first_sent_cnt / len(pred_tokens))\n",
    "    "
   ]
  },
  {
   "cell_type": "code",
   "execution_count": 13,
   "metadata": {},
   "outputs": [
    {
     "data": {
      "text/plain": [
       "0.823046408239825"
      ]
     },
     "execution_count": 13,
     "metadata": {},
     "output_type": "execute_result"
    }
   ],
   "source": [
    "sum(from_first_sentence_tokens_percert) / len(from_first_sentence_tokens_percert)"
   ]
  },
  {
   "cell_type": "code",
   "execution_count": 14,
   "metadata": {},
   "outputs": [
    {
     "data": {
      "text/plain": [
       "0.9375"
      ]
     },
     "execution_count": 14,
     "metadata": {},
     "output_type": "execute_result"
    }
   ],
   "source": [
    "sorted(from_first_sentence_tokens_percert)[len(from_first_sentence_tokens_percert)//2]"
   ]
  },
  {
   "cell_type": "code",
   "execution_count": 19,
   "metadata": {},
   "outputs": [
    {
     "data": {
      "image/png": "[encoded data removed]",
      "text/plain": [
       "<Figure size 432x288 with 1 Axes>"
      ]
     },
     "metadata": {
      "needs_background": "light"
     },
     "output_type": "display_data"
    }
   ],
   "source": [
    "plt.hist(from_first_sentence_tokens_percert, 20)\n",
    "plt.show()"
   ]
  },
  {
   "cell_type": "code",
   "execution_count": null,
   "metadata": {},
   "outputs": [],
   "source": []
  }
 ],
 "metadata": {
  "kernelspec": {
   "display_name": "Python 3",
   "language": "python",
   "name": "python3"
  },
  "language_info": {
   "codemirror_mode": {
    "name": "ipython",
    "version": 3
   },
   "file_extension": ".py",
   "mimetype": "text/x-python",
   "name": "python",
   "nbconvert_exporter": "python",
   "pygments_lexer": "ipython3",
   "version": "3.7.3"
  }
 },
 "nbformat": 4,
 "nbformat_minor": 2
}
